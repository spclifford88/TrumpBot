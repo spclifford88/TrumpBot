{
 "cells": [
  {
   "cell_type": "code",
   "execution_count": 9,
   "metadata": {},
   "outputs": [
    {
     "data": {
      "text/html": "<div>\n<style scoped>\n    .dataframe tbody tr th:only-of-type {\n        vertical-align: middle;\n    }\n\n    .dataframe tbody tr th {\n        vertical-align: top;\n    }\n\n    .dataframe thead th {\n        text-align: right;\n    }\n</style>\n<table border=\"1\" class=\"dataframe\">\n  <thead>\n    <tr style=\"text-align: right;\">\n      <th></th>\n      <th>making</th>\n      <th>27</th>\n    </tr>\n  </thead>\n  <tbody>\n    <tr>\n      <th>0</th>\n      <td>public</td>\n      <td>9</td>\n    </tr>\n    <tr>\n      <th>1</th>\n      <td>statement</td>\n      <td>30</td>\n    </tr>\n    <tr>\n      <th>2</th>\n      <td>tomorrow</td>\n      <td>24</td>\n    </tr>\n    <tr>\n      <th>3</th>\n      <td>discuss</td>\n      <td>2</td>\n    </tr>\n    <tr>\n      <th>4</th>\n      <td>country</td>\n      <td>125</td>\n    </tr>\n  </tbody>\n</table>\n</div>",
      "text/plain": "      making   27\n0     public    9\n1  statement   30\n2   tomorrow   24\n3    discuss    2\n4    country  125"
     },
     "execution_count": 9,
     "metadata": {},
     "output_type": "execute_result"
    }
   ],
   "source": [
    "import pandas as pd\n",
    "\n",
    "words = pd.read_csv('trump_words.csv', sep=',')\n",
    "words.head()"
   ]
  },
  {
   "cell_type": "code",
   "execution_count": 10,
   "metadata": {},
   "outputs": [
    {
     "name": "stdout",
     "output_type": "stream",
     "text": "<class 'pandas.core.frame.DataFrame'>\nRangeIndex: 4108 entries, 0 to 4107\nData columns (total 2 columns):\n #   Column  Non-Null Count  Dtype \n---  ------  --------------  ----- \n 0   making  4108 non-null   object\n 1   27      4108 non-null   int64 \ndtypes: int64(1), object(1)\nmemory usage: 64.3+ KB\n"
    }
   ],
   "source": [
    "words.info()"
   ]
  },
  {
   "cell_type": "code",
   "execution_count": null,
   "metadata": {},
   "outputs": [],
   "source": [
    "words.Columns.value_counts()"
   ]
  },
  {
   "cell_type": "code",
   "execution_count": null,
   "metadata": {},
   "outputs": [],
   "source": []
  }
 ],
 "metadata": {
  "kernelspec": {
   "display_name": "Python 3",
   "language": "python",
   "name": "python3"
  },
  "language_info": {
   "codemirror_mode": {
    "name": "ipython",
    "version": 3
   },
   "file_extension": ".py",
   "mimetype": "text/x-python",
   "name": "python",
   "nbconvert_exporter": "python",
   "pygments_lexer": "ipython3",
   "version": "3.6.9-final"
  }
 },
 "nbformat": 4,
 "nbformat_minor": 4
}